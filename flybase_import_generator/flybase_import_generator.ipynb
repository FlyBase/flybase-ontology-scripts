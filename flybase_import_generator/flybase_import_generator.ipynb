{
 "cells": [
  {
   "cell_type": "markdown",
   "metadata": {},
   "source": [
    "*Before Running:*\n",
    "1. Add extra FBgns to FBgns.txt in this directory (this file should have all FBgns of imported genes in FBbt)\n",
    "2. Upload file to [FlyBase batch download](http://flybase.org/batchdownload) to get latest gene names and symbols\n",
    "3. Save resultant file in this directory - if name does not match gene_input_file variable below, edit gene_input_file\n",
    "\n",
    "*Run script*\n",
    "\n",
    "*After Running:*\n",
    "1. Move 'output.obo' to src/ontology/components folder on FBbt repo\n",
    "2. Check diff with flybase_import.obo\n",
    "3. Delete old 'flybase_import.obo' and rename 'output.obo' to 'flybase_import.obo'"
   ]
  },
  {
   "cell_type": "code",
   "execution_count": 1,
   "metadata": {},
   "outputs": [],
   "source": [
    "import pandas as pd\n",
    "\n",
    "gene_input_file = 'FlyBase_Fields_download.txt'\n",
    "baseuri = 'http://flybase.org/reports/'\n",
    "SO_gene = 'SO:0000704'"
   ]
  },
  {
   "cell_type": "code",
   "execution_count": 2,
   "metadata": {},
   "outputs": [],
   "source": [
    "genes = pd.read_csv(gene_input_file, sep=\"\\t\")\n",
    "#genes"
   ]
  },
  {
   "cell_type": "code",
   "execution_count": 3,
   "metadata": {},
   "outputs": [],
   "source": [
    "# write each ID - name combo to file\n",
    "with open('output.obo', 'w') as file:\n",
    "    file.write('format-version: 1.2\\nontology: fbbt/components/flybase_import\\n\\n')\n",
    "    for i in genes.index:\n",
    "        file.write('[Term]\\n')\n",
    "        file.write('id: ' + baseuri + genes['#SUBMITTED ID'][i] + '\\n')\n",
    "        if genes['NAME'][i] is '-':\n",
    "            file.write('name: ' + genes['SYMBOL'][i] + '\\n')\n",
    "        else: file.write('name: ' + genes['NAME'][i] + '\\n')\n",
    "        file.write('is_a: ' + SO_gene + '\\n\\n')\n",
    "\n"
   ]
  },
  {
   "cell_type": "code",
   "execution_count": null,
   "metadata": {},
   "outputs": [],
   "source": []
  }
 ],
 "metadata": {
  "kernelspec": {
   "display_name": "Python 3",
   "language": "python",
   "name": "python3"
  },
  "language_info": {
   "codemirror_mode": {
    "name": "ipython",
    "version": 3
   },
   "file_extension": ".py",
   "mimetype": "text/x-python",
   "name": "python",
   "nbconvert_exporter": "python",
   "pygments_lexer": "ipython3",
   "version": "3.6.5"
  }
 },
 "nbformat": 4,
 "nbformat_minor": 2
}
